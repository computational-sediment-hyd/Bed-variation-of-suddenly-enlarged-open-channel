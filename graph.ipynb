{
 "cells": [
  {
   "cell_type": "code",
   "execution_count": null,
   "metadata": {},
   "outputs": [],
   "source": [
    "import holoviews as hv\n",
    "import numpy as np\n",
    "import xarray as xr\n",
    "hv.extension('bokeh', logo=False) "
   ]
  },
  {
   "cell_type": "code",
   "execution_count": null,
   "metadata": {},
   "outputs": [],
   "source": [
    "dx = 5\n",
    "nxmax, nymax = 200, 20\n",
    "zb = np.zeros((nxmax, nymax))\n",
    "\n",
    "ib = 0.001\n",
    "Hs = 1.0\n",
    "for i in range(nxmax) : zb[i,:] = Hs - ib * i * dx\n",
    "\n",
    "zb[:60, :5]  += 5.0 \n",
    "zb[:60, 15:] += 5.0 "
   ]
  },
  {
   "cell_type": "code",
   "execution_count": null,
   "metadata": {},
   "outputs": [],
   "source": [
    "def mk(ind):\n",
    "    dp = ds.isel(t=ind)\n",
    "    U = dp['u'].values.T\n",
    "    V = dp['v'].values.T\n",
    "    mag = np.sqrt(U**2 + V**2)\n",
    "    angle = (np.pi/2.) - np.arctan2(U/mag, V/mag)\n",
    "    \n",
    "    zbn = dp['dzb'] + zb\n",
    "    wl = zbn + dp['depth']\n",
    "    \n",
    "    img = hv.Image((dp['x'],dp['y'],dp['dzb'].values.T), kdims=['x','y']).options(height=220, width=900,cmap='bwr',colorbar=True).redim(z={'range':(-1,1)})\n",
    "    vec =  hv.VectorField((dp['x'], dp['y'], angle, mag))\n",
    "    \n",
    "    cont = img * vec * hv.HLine(y=50) * hv.VLine(x=500)\n",
    "    \n",
    "    line1 = hv.Curve( (wl[100,:] , dp['y']), kdims='elevation',vdims='y'  ).options(height=220, color='blue')  \\\n",
    "            * hv.Curve( (zbn[100,:], dp['y']), kdims='elevation',vdims='y'  ).options(color='black', title='x=500') \\\n",
    "            * hv.Curve( (zb[100,:], dp['y']), kdims='elevation',vdims='y'  ).options(color='red') \\\n",
    "            \n",
    "    line2 = hv.Curve( (dp['x'], wl[:,10]) , kdims='x',vdims='elevation', label='water level').options(width=900, height=220, color='blue')  \\\n",
    "            * hv.Curve( (dp['x'], zbn[:,10]), kdims='x',vdims='elevation', label='bed').options(color='black', title='y=50') \\\n",
    "            * hv.Curve( (dp['x'], zb[:,10]), kdims='elevation',vdims='y', label='initial').options(color='red')\n",
    "\n",
    "    return cont, line1, line2 \n",
    "\n",
    "ds = xr.open_dataset('output_r.nc')\n",
    "\n",
    "holo1 = hv.HoloMap(kdims=['time'])\n",
    "holo2 = hv.HoloMap(kdims=['time'])\n",
    "holo3 = hv.HoloMap(kdims=['time'])\n",
    "\n",
    "for i in range(0,101,20):\n",
    "    holo1[i*5], holo2[i*5], holo3[i*5] = mk(i)\n",
    "    \n",
    "holo = hv.Layout([holo1, holo2, holo3]).cols(2)\n",
    "hv.save(holo,'out.html')\n",
    "\n",
    "ds.close()\n"
   ]
  }
 ],
 "metadata": {
  "kernelspec": {
   "display_name": "Python 3",
   "language": "python",
   "name": "python3"
  },
  "language_info": {
   "codemirror_mode": {
    "name": "ipython",
    "version": 3
   },
   "file_extension": ".py",
   "mimetype": "text/x-python",
   "name": "python",
   "nbconvert_exporter": "python",
   "pygments_lexer": "ipython3",
   "version": "3.6.4"
  },
  "toc": {
   "base_numbering": 1,
   "nav_menu": {},
   "number_sections": true,
   "sideBar": true,
   "skip_h1_title": false,
   "title_cell": "Table of Contents",
   "title_sidebar": "Contents",
   "toc_cell": false,
   "toc_position": {},
   "toc_section_display": true,
   "toc_window_display": false
  }
 },
 "nbformat": 4,
 "nbformat_minor": 2
}
